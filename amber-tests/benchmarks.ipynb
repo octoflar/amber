{
 "cells": [
  {
   "cell_type": "markdown",
   "metadata": {},
   "source": [
    "# Benchmark runs"
   ]
  },
  {
   "cell_type": "markdown",
   "metadata": {},
   "source": [
    "## Initialization"
   ]
  },
  {
   "cell_type": "code",
   "execution_count": 1,
   "metadata": {},
   "outputs": [],
   "source": [
    "import os\n",
    "import sys\n",
    "\n",
    "_path = os.path.abspath(os.path.join(\"..\"))\n",
    "if _path not in sys.path:\n",
    "    sys.path.append(_path)\n",
    "_path = os.path.abspath(os.path.join(\"..\", \"amber\"))\n",
    "if _path not in sys.path:\n",
    "    sys.path.append(_path)"
   ]
  },
  {
   "cell_type": "code",
   "execution_count": 2,
   "metadata": {},
   "outputs": [],
   "source": [
    "import numba as nb\n",
    "import numpy as np\n",
    "import tensorflow as tf\n",
    "import time\n",
    "\n",
    "from numpy import ndarray\n",
    "\n",
    "from amber.bernstein import BPoly\n",
    "from amber.bernstein import strides"
   ]
  },
  {
   "cell_type": "code",
   "execution_count": 3,
   "metadata": {},
   "outputs": [],
   "source": [
    "np.random.seed(42)"
   ]
  },
  {
   "cell_type": "markdown",
   "metadata": {},
   "source": [
    "## Hadamard product"
   ]
  },
  {
   "cell_type": "code",
   "execution_count": 4,
   "metadata": {},
   "outputs": [],
   "source": [
    "def hadamard(A, B):\n",
    "    return A * B"
   ]
  },
  {
   "cell_type": "code",
   "execution_count": 5,
   "metadata": {},
   "outputs": [],
   "source": [
    "hadamard_ufunc = nb.vectorize(\n",
    "    [\"float32(float32, float32)\", \"float64(float64, float64)\"]\n",
    ")(hadamard)"
   ]
  },
  {
   "cell_type": "code",
   "execution_count": 6,
   "metadata": {},
   "outputs": [],
   "source": [
    "def hadamard_core(A, B, C):\n",
    "    m, n = A.shape\n",
    "    m, n = B.shape\n",
    "    for i in range(m):\n",
    "        for j in range(n):\n",
    "            C[i, j] = A[i, j] * B[i, j]"
   ]
  },
  {
   "cell_type": "code",
   "execution_count": 7,
   "metadata": {},
   "outputs": [],
   "source": [
    "gu_hadamard = nb.guvectorize(\n",
    "    [\n",
    "        \"float32[:,:], float32[:,:], float32[:,:]\",\n",
    "        \"float64[:,:], float64[:,:], float64[:,:]\",\n",
    "    ],\n",
    "    \"(m,n),(n,p)->(n,p)\",\n",
    ")(hadamard_core)"
   ]
  },
  {
   "cell_type": "code",
   "execution_count": 8,
   "metadata": {},
   "outputs": [],
   "source": [
    "n = 4000\n",
    "A = np.random.rand(n, n)\n",
    "B = np.random.rand(n, n)"
   ]
  },
  {
   "cell_type": "markdown",
   "metadata": {},
   "source": [
    "### `numba`"
   ]
  },
  {
   "cell_type": "code",
   "execution_count": 9,
   "metadata": {},
   "outputs": [
    {
     "data": {
      "text/plain": [
       "array([[3.08931628e-01, 5.92255739e-01, 2.40748463e-01, ...,\n",
       "        3.92699366e-01, 3.68227284e-02, 5.31154445e-02],\n",
       "       [1.47020185e-01, 5.39980163e-01, 6.07112164e-01, ...,\n",
       "        3.47558479e-02, 3.32175384e-02, 3.89707026e-02],\n",
       "       [8.60111703e-02, 5.13795234e-01, 4.98261245e-02, ...,\n",
       "        2.57315353e-01, 8.27579130e-01, 2.61096130e-01],\n",
       "       ...,\n",
       "       [5.00911523e-02, 3.75422716e-01, 3.15418605e-01, ...,\n",
       "        6.34747216e-01, 1.51912747e-01, 3.16547552e-01],\n",
       "       [9.60042318e-02, 2.42357853e-01, 3.89347743e-01, ...,\n",
       "        4.17583191e-01, 6.69831148e-01, 2.88874463e-01],\n",
       "       [7.31558307e-04, 1.53147687e-01, 2.37510226e-01, ...,\n",
       "        2.06726753e-01, 1.00185025e-01, 1.17237888e-02]])"
      ]
     },
     "execution_count": 9,
     "metadata": {},
     "output_type": "execute_result"
    }
   ],
   "source": [
    "C = hadamard_ufunc(A, B)\n",
    "C"
   ]
  },
  {
   "cell_type": "code",
   "execution_count": 10,
   "metadata": {},
   "outputs": [
    {
     "name": "stdout",
     "output_type": "stream",
     "text": [
      "20.4 ms ± 400 μs per loop (mean ± std. dev. of 7 runs, 100 loops each)\n"
     ]
    }
   ],
   "source": [
    "%timeit hadamard_ufunc(A, B)"
   ]
  },
  {
   "cell_type": "code",
   "execution_count": 11,
   "metadata": {},
   "outputs": [
    {
     "data": {
      "text/plain": [
       "array([[3.08931628e-01, 5.92255739e-01, 2.40748463e-01, ...,\n",
       "        3.92699366e-01, 3.68227284e-02, 5.31154445e-02],\n",
       "       [1.47020185e-01, 5.39980163e-01, 6.07112164e-01, ...,\n",
       "        3.47558479e-02, 3.32175384e-02, 3.89707026e-02],\n",
       "       [8.60111703e-02, 5.13795234e-01, 4.98261245e-02, ...,\n",
       "        2.57315353e-01, 8.27579130e-01, 2.61096130e-01],\n",
       "       ...,\n",
       "       [5.00911523e-02, 3.75422716e-01, 3.15418605e-01, ...,\n",
       "        6.34747216e-01, 1.51912747e-01, 3.16547552e-01],\n",
       "       [9.60042318e-02, 2.42357853e-01, 3.89347743e-01, ...,\n",
       "        4.17583191e-01, 6.69831148e-01, 2.88874463e-01],\n",
       "       [7.31558307e-04, 1.53147687e-01, 2.37510226e-01, ...,\n",
       "        2.06726753e-01, 1.00185025e-01, 1.17237888e-02]])"
      ]
     },
     "execution_count": 11,
     "metadata": {},
     "output_type": "execute_result"
    }
   ],
   "source": [
    "C = gu_hadamard(A, B)\n",
    "C"
   ]
  },
  {
   "cell_type": "code",
   "execution_count": 12,
   "metadata": {},
   "outputs": [
    {
     "name": "stdout",
     "output_type": "stream",
     "text": [
      "21.6 ms ± 643 μs per loop (mean ± std. dev. of 7 runs, 10 loops each)\n"
     ]
    }
   ],
   "source": [
    "%timeit gu_hadamard(A, B)"
   ]
  },
  {
   "cell_type": "markdown",
   "metadata": {},
   "source": [
    "### `numpy`"
   ]
  },
  {
   "cell_type": "code",
   "execution_count": 13,
   "metadata": {},
   "outputs": [
    {
     "data": {
      "text/plain": [
       "array([[3.08931628e-01, 5.92255739e-01, 2.40748463e-01, ...,\n",
       "        3.92699366e-01, 3.68227284e-02, 5.31154445e-02],\n",
       "       [1.47020185e-01, 5.39980163e-01, 6.07112164e-01, ...,\n",
       "        3.47558479e-02, 3.32175384e-02, 3.89707026e-02],\n",
       "       [8.60111703e-02, 5.13795234e-01, 4.98261245e-02, ...,\n",
       "        2.57315353e-01, 8.27579130e-01, 2.61096130e-01],\n",
       "       ...,\n",
       "       [5.00911523e-02, 3.75422716e-01, 3.15418605e-01, ...,\n",
       "        6.34747216e-01, 1.51912747e-01, 3.16547552e-01],\n",
       "       [9.60042318e-02, 2.42357853e-01, 3.89347743e-01, ...,\n",
       "        4.17583191e-01, 6.69831148e-01, 2.88874463e-01],\n",
       "       [7.31558307e-04, 1.53147687e-01, 2.37510226e-01, ...,\n",
       "        2.06726753e-01, 1.00185025e-01, 1.17237888e-02]])"
      ]
     },
     "execution_count": 13,
     "metadata": {},
     "output_type": "execute_result"
    }
   ],
   "source": [
    "C = A * B\n",
    "C"
   ]
  },
  {
   "cell_type": "code",
   "execution_count": 14,
   "metadata": {},
   "outputs": [
    {
     "name": "stdout",
     "output_type": "stream",
     "text": [
      "20.8 ms ± 390 μs per loop (mean ± std. dev. of 7 runs, 100 loops each)\n"
     ]
    }
   ],
   "source": [
    "%timeit A * B"
   ]
  },
  {
   "cell_type": "markdown",
   "metadata": {},
   "source": [
    "## Matrix multiplication"
   ]
  },
  {
   "cell_type": "markdown",
   "metadata": {},
   "source": [
    "An example from <http://numba.pydata.org/numba-doc/0.12/tutorial_numpy_and_numba.html>. In their example, however, their call to `gu_matmul` yields a wrong result."
   ]
  },
  {
   "cell_type": "code",
   "execution_count": 15,
   "metadata": {},
   "outputs": [],
   "source": [
    "def matmul_core(A, B, C):\n",
    "    m, n = A.shape\n",
    "    n, p = B.shape\n",
    "    for i in range(m):\n",
    "        for j in range(p):\n",
    "            C[i, j] = 0.0\n",
    "            for k in range(n):\n",
    "                C[i, j] += A[i, k] * B[k, j]"
   ]
  },
  {
   "cell_type": "code",
   "execution_count": 16,
   "metadata": {},
   "outputs": [],
   "source": [
    "gu_matmul = nb.guvectorize(\n",
    "    [\n",
    "        \"float32[:,:], float32[:,:], float32[:,:]\",\n",
    "        \"float64[:,:], float64[:,:], float64[:,:]\",\n",
    "    ],\n",
    "    \"(m,n),(n,p)->(n,p)\",\n",
    ")(matmul_core)"
   ]
  },
  {
   "cell_type": "markdown",
   "metadata": {},
   "source": [
    "Note: `numba` will fail to compute a result in reasonable time for `n = 2000`."
   ]
  },
  {
   "cell_type": "code",
   "execution_count": 17,
   "metadata": {},
   "outputs": [],
   "source": [
    "n = 1000\n",
    "A = np.random.rand(n, n)\n",
    "B = np.random.rand(n, n)"
   ]
  },
  {
   "cell_type": "markdown",
   "metadata": {},
   "source": [
    "### `numba`"
   ]
  },
  {
   "cell_type": "code",
   "execution_count": 18,
   "metadata": {},
   "outputs": [
    {
     "data": {
      "text/plain": [
       "array([[253.39525479, 255.31030731, 249.37606905, ..., 250.83508135,\n",
       "        247.90246571, 255.34742274],\n",
       "       [260.51711872, 255.941561  , 255.791102  , ..., 250.55099364,\n",
       "        249.71548221, 252.02718514],\n",
       "       [245.10202543, 244.84066934, 244.83574251, ..., 243.54013448,\n",
       "        236.98363105, 242.553251  ],\n",
       "       ...,\n",
       "       [248.91040042, 251.93615079, 247.53951545, ..., 247.33217846,\n",
       "        243.80524779, 247.60013621],\n",
       "       [247.13525441, 250.26624687, 250.11499605, ..., 243.77905079,\n",
       "        241.03535335, 246.94327919],\n",
       "       [255.79789086, 255.41624538, 257.08821581, ..., 251.68467025,\n",
       "        249.10636069, 250.41409044]])"
      ]
     },
     "execution_count": 18,
     "metadata": {},
     "output_type": "execute_result"
    }
   ],
   "source": [
    "C = gu_matmul(A, B)\n",
    "C"
   ]
  },
  {
   "cell_type": "code",
   "execution_count": 19,
   "metadata": {},
   "outputs": [
    {
     "name": "stdout",
     "output_type": "stream",
     "text": [
      "1.55 s ± 95.7 ms per loop (mean ± std. dev. of 7 runs, 1 loop each)\n"
     ]
    }
   ],
   "source": [
    "%timeit gu_matmul(A, B)"
   ]
  },
  {
   "cell_type": "markdown",
   "metadata": {},
   "source": [
    "### `numpy`"
   ]
  },
  {
   "cell_type": "code",
   "execution_count": 20,
   "metadata": {},
   "outputs": [
    {
     "data": {
      "text/plain": [
       "array([[253.39525479, 255.31030731, 249.37606905, ..., 250.83508135,\n",
       "        247.90246571, 255.34742274],\n",
       "       [260.51711872, 255.941561  , 255.791102  , ..., 250.55099364,\n",
       "        249.71548221, 252.02718514],\n",
       "       [245.10202543, 244.84066934, 244.83574251, ..., 243.54013448,\n",
       "        236.98363105, 242.553251  ],\n",
       "       ...,\n",
       "       [248.91040042, 251.93615079, 247.53951545, ..., 247.33217846,\n",
       "        243.80524779, 247.60013621],\n",
       "       [247.13525441, 250.26624687, 250.11499605, ..., 243.77905079,\n",
       "        241.03535335, 246.94327919],\n",
       "       [255.79789086, 255.41624538, 257.08821581, ..., 251.68467025,\n",
       "        249.10636069, 250.41409044]])"
      ]
     },
     "execution_count": 20,
     "metadata": {},
     "output_type": "execute_result"
    }
   ],
   "source": [
    "C = A @ B\n",
    "C"
   ]
  },
  {
   "cell_type": "code",
   "execution_count": 21,
   "metadata": {},
   "outputs": [
    {
     "name": "stdout",
     "output_type": "stream",
     "text": [
      "31.3 ms ± 858 μs per loop (mean ± std. dev. of 7 runs, 10 loops each)\n"
     ]
    }
   ],
   "source": [
    "%timeit A @ B"
   ]
  },
  {
   "cell_type": "markdown",
   "metadata": {},
   "source": [
    "## Linear interpolation"
   ]
  },
  {
   "cell_type": "markdown",
   "metadata": {},
   "source": [
    "Another example from <http://numba.pydata.org/numba-doc/0.12/tutorial_numpy_and_numba.html>."
   ]
  },
  {
   "cell_type": "code",
   "execution_count": 22,
   "metadata": {},
   "outputs": [],
   "source": [
    "def lerp(a, b, t):\n",
    "    return a + t * (b - a)"
   ]
  },
  {
   "cell_type": "code",
   "execution_count": 23,
   "metadata": {},
   "outputs": [],
   "source": [
    "lerp_ufunc = nb.vectorize(\n",
    "    [\"float32(float32, float32, float32)\", \"float64(float64, float64, float64)\"]\n",
    ")(lerp)"
   ]
  },
  {
   "cell_type": "code",
   "execution_count": 24,
   "metadata": {},
   "outputs": [],
   "source": [
    "n = 1000000\n",
    "a = np.random.rand(n)\n",
    "b = np.random.rand(n)\n",
    "t = np.random.rand(n)"
   ]
  },
  {
   "cell_type": "markdown",
   "metadata": {},
   "source": [
    "### `numba`"
   ]
  },
  {
   "cell_type": "code",
   "execution_count": 25,
   "metadata": {},
   "outputs": [
    {
     "data": {
      "text/plain": [
       "array([0.3393685 , 0.81892999, 0.43599322, ..., 0.15591659, 0.58145359,\n",
       "       0.64624195])"
      ]
     },
     "execution_count": 25,
     "metadata": {},
     "output_type": "execute_result"
    }
   ],
   "source": [
    "result = lerp_ufunc(a, b, t)\n",
    "result"
   ]
  },
  {
   "cell_type": "code",
   "execution_count": 26,
   "metadata": {},
   "outputs": [
    {
     "name": "stdout",
     "output_type": "stream",
     "text": [
      "1.27 ms ± 131 μs per loop (mean ± std. dev. of 7 runs, 1,000 loops each)\n"
     ]
    }
   ],
   "source": [
    "%timeit lerp_ufunc(a, b, t)"
   ]
  },
  {
   "cell_type": "markdown",
   "metadata": {},
   "source": [
    "### `numpy`"
   ]
  },
  {
   "cell_type": "code",
   "execution_count": 27,
   "metadata": {},
   "outputs": [
    {
     "data": {
      "text/plain": [
       "array([0.3393685 , 0.81892999, 0.43599322, ..., 0.15591659, 0.58145359,\n",
       "       0.64624195])"
      ]
     },
     "execution_count": 27,
     "metadata": {},
     "output_type": "execute_result"
    }
   ],
   "source": [
    "result = lerp(a, b, t)\n",
    "result"
   ]
  },
  {
   "cell_type": "code",
   "execution_count": 28,
   "metadata": {},
   "outputs": [
    {
     "name": "stdout",
     "output_type": "stream",
     "text": [
      "1.91 ms ± 103 μs per loop (mean ± std. dev. of 7 runs, 1,000 loops each)\n"
     ]
    }
   ],
   "source": [
    "%timeit lerp(a, b, t)"
   ]
  },
  {
   "cell_type": "markdown",
   "metadata": {},
   "source": [
    "## Bernstein polynomials"
   ]
  },
  {
   "cell_type": "code",
   "execution_count": 29,
   "metadata": {},
   "outputs": [],
   "source": [
    "n = 5\n",
    "d = np.full(n, n)\n",
    "m = strides(d)"
   ]
  },
  {
   "cell_type": "code",
   "execution_count": 30,
   "metadata": {},
   "outputs": [],
   "source": [
    "b_poly = BPoly(d)"
   ]
  },
  {
   "cell_type": "code",
   "execution_count": 31,
   "metadata": {},
   "outputs": [],
   "source": [
    "@nb.guvectorize(\n",
    "    [\n",
    "        \"int64[:], int64[:], float32[:,:], float32[:,:], float32[:]\",\n",
    "        \"int64[:], int64[:], float64[:,:], float64[:,:], float64[:]\",\n",
    "    ],\n",
    "    \"(n),(_),(__,howmany),(n,howmany)->(howmany)\",\n",
    "    writable_args=(2,),\n",
    ")\n",
    "def gu_b_poly(d, m, b, x, y):\n",
    "    \"\"\"\n",
    "    An n-variate Bernstein polynomial.\n",
    "\n",
    "    :param d: The degrees of the n-variate Bernstein polynomial.\n",
    "    :param m: The strides within the n-variate Bernstein batch.\n",
    "    :param b: The Bernstein batch.\n",
    "    :param x: The n-variate input.\n",
    "    :return: The value of the Bernstein polynomial.\n",
    "    \"\"\"\n",
    "    n = x.shape[0]\n",
    "    h = x.shape[1]\n",
    "    for i in range(n):\n",
    "        for j in range(m[i - 1] - m[i], 0, -m[i]):\n",
    "            for k in range(j):\n",
    "                for l in range(h):\n",
    "                    b[k, l] += (b[m[i] + k, l] - b[k, l]) * x[i, l]\n",
    "    for l in range(h):\n",
    "        y[l] = b[0, l]"
   ]
  },
  {
   "cell_type": "code",
   "execution_count": 32,
   "metadata": {},
   "outputs": [],
   "source": [
    "howmany = 10000\n",
    "b = np.random.rand(m[n], howmany)\n",
    "x = np.random.rand(n, howmany)"
   ]
  },
  {
   "cell_type": "markdown",
   "metadata": {},
   "source": [
    "### `numba`"
   ]
  },
  {
   "cell_type": "code",
   "execution_count": 33,
   "metadata": {},
   "outputs": [
    {
     "data": {
      "text/plain": [
       "array([0.46874691, 0.51766059, 0.49633476, ..., 0.5011208 , 0.48511396,\n",
       "       0.50891279])"
      ]
     },
     "execution_count": 33,
     "metadata": {},
     "output_type": "execute_result"
    }
   ],
   "source": [
    "result = gu_b_poly(d, m, b.copy(), x)\n",
    "result"
   ]
  },
  {
   "cell_type": "code",
   "execution_count": 34,
   "metadata": {},
   "outputs": [
    {
     "name": "stdout",
     "output_type": "stream",
     "text": [
      "410 ms ± 3.65 ms per loop (mean ± std. dev. of 7 runs, 1 loop each)\n"
     ]
    }
   ],
   "source": [
    "%timeit gu_b_poly(d, m, b.copy(), x)"
   ]
  },
  {
   "cell_type": "markdown",
   "metadata": {},
   "source": [
    "### `numpy`"
   ]
  },
  {
   "cell_type": "code",
   "execution_count": 35,
   "metadata": {},
   "outputs": [
    {
     "data": {
      "text/plain": [
       "array([0.46874691, 0.51766059, 0.49633476, ..., 0.5011208 , 0.48511396,\n",
       "       0.50891279])"
      ]
     },
     "execution_count": 35,
     "metadata": {},
     "output_type": "execute_result"
    }
   ],
   "source": [
    "result = b_poly.eval(b, x)\n",
    "result"
   ]
  },
  {
   "cell_type": "code",
   "execution_count": 36,
   "metadata": {},
   "outputs": [
    {
     "name": "stdout",
     "output_type": "stream",
     "text": [
      "798 ms ± 15.4 ms per loop (mean ± std. dev. of 7 runs, 1 loop each)\n"
     ]
    }
   ],
   "source": [
    "%timeit b_poly.eval(b, x)"
   ]
  },
  {
   "cell_type": "markdown",
   "metadata": {},
   "source": [
    "### `tensorflow`"
   ]
  },
  {
   "cell_type": "code",
   "execution_count": 40,
   "metadata": {},
   "outputs": [
    {
     "data": {
      "text/plain": [
       "array([0.46874691, 0.51766059, 0.49633476, ..., 0.5011208 , 0.48511396,\n",
       "       0.50891279])"
      ]
     },
     "execution_count": 40,
     "metadata": {},
     "output_type": "execute_result"
    }
   ],
   "source": [
    "result = b_poly(b, x)\n",
    "result.numpy()"
   ]
  },
  {
   "cell_type": "code",
   "execution_count": 41,
   "metadata": {},
   "outputs": [
    {
     "name": "stdout",
     "output_type": "stream",
     "text": [
      "163 ms ± 10 ms per loop (mean ± std. dev. of 7 runs, 10 loops each)\n"
     ]
    }
   ],
   "source": [
    "%timeit b_poly(b, x)"
   ]
  },
  {
   "cell_type": "markdown",
   "metadata": {},
   "source": [
    "Does `tensorflow` cache calculations?"
   ]
  },
  {
   "cell_type": "code",
   "execution_count": 42,
   "metadata": {},
   "outputs": [
    {
     "name": "stdout",
     "output_type": "stream",
     "text": [
      "157 ms ± 773 μs per loop (mean ± std. dev. of 7 runs, 10 loops each)\n"
     ]
    }
   ],
   "source": [
    "%timeit b_poly(b, np.random.rand(n, howmany)) "
   ]
  },
  {
   "cell_type": "markdown",
   "metadata": {},
   "source": [
    "No, it does not."
   ]
  },
  {
   "cell_type": "code",
   "execution_count": null,
   "metadata": {},
   "outputs": [],
   "source": []
  }
 ],
 "metadata": {
  "kernelspec": {
   "display_name": "Python 3 (ipykernel)",
   "language": "python",
   "name": "python3"
  },
  "language_info": {
   "codemirror_mode": {
    "name": "ipython",
    "version": 3
   },
   "file_extension": ".py",
   "mimetype": "text/x-python",
   "name": "python",
   "nbconvert_exporter": "python",
   "pygments_lexer": "ipython3",
   "version": "3.11.9"
  }
 },
 "nbformat": 4,
 "nbformat_minor": 4
}
