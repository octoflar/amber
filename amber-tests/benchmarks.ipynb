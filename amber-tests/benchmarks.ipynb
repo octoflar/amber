{
 "cells": [
  {
   "cell_type": "markdown",
   "metadata": {},
   "source": [
    "# Benchmark runs"
   ]
  },
  {
   "cell_type": "code",
   "execution_count": 1,
   "metadata": {},
   "outputs": [],
   "source": [
    "import numba as nb\n",
    "import numpy as np\n",
    "import time"
   ]
  },
  {
   "cell_type": "markdown",
   "metadata": {},
   "source": [
    "## Hadamard product"
   ]
  },
  {
   "cell_type": "code",
   "execution_count": 2,
   "metadata": {},
   "outputs": [],
   "source": [
    "def hadamard(A, B):\n",
    "    return A * B"
   ]
  },
  {
   "cell_type": "code",
   "execution_count": 3,
   "metadata": {},
   "outputs": [],
   "source": [
    "hadamard_ufunc = nb.vectorize(\n",
    "    [\"float32(float32, float32)\", \"float64(float64, float64)\"]\n",
    ")(hadamard)"
   ]
  },
  {
   "cell_type": "code",
   "execution_count": 4,
   "metadata": {},
   "outputs": [],
   "source": [
    "def hadamardcore(A, B, C):\n",
    "    m, n = A.shape\n",
    "    m, n = B.shape\n",
    "    for i in range(m):\n",
    "        for j in range(n):\n",
    "            C[i, j] = A[i, j] * B[i, j]"
   ]
  },
  {
   "cell_type": "code",
   "execution_count": 5,
   "metadata": {},
   "outputs": [],
   "source": [
    "gu_hadamard = nb.guvectorize(\n",
    "    [\n",
    "        \"float32[:,:], float32[:,:], float32[:,:]\",\n",
    "        \"float64[:,:], float64[:,:], float64[:,:]\",\n",
    "    ],\n",
    "    \"(m,n),(n,p)->(n,p)\",\n",
    ")(hadamardcore)"
   ]
  },
  {
   "cell_type": "code",
   "execution_count": 6,
   "metadata": {},
   "outputs": [],
   "source": [
    "n = 4000\n",
    "A = np.arange(n * n, dtype=np.float64).reshape(n, n)\n",
    "B = np.flip(np.arange(n * n, dtype=np.float64)).reshape(n, n)"
   ]
  },
  {
   "cell_type": "markdown",
   "metadata": {},
   "source": [
    "### `numba`"
   ]
  },
  {
   "cell_type": "code",
   "execution_count": 7,
   "metadata": {},
   "outputs": [
    {
     "data": {
      "text/plain": [
       "array([[0.00000000e+00, 1.59999980e+07, 3.19999940e+07, ...,\n",
       "        6.39360200e+10, 6.39520120e+10, 6.39680040e+10],\n",
       "       [6.39839960e+10, 6.39999880e+10, 6.40159800e+10, ...,\n",
       "        1.27888040e+11, 1.27904024e+11, 1.27920008e+11],\n",
       "       [1.27935992e+11, 1.27951976e+11, 1.27967960e+11, ...,\n",
       "        1.91808060e+11, 1.91824036e+11, 1.91840012e+11],\n",
       "       ...,\n",
       "       [1.91840012e+11, 1.91824036e+11, 1.91808060e+11, ...,\n",
       "        1.27967960e+11, 1.27951976e+11, 1.27935992e+11],\n",
       "       [1.27920008e+11, 1.27904024e+11, 1.27888040e+11, ...,\n",
       "        6.40159800e+10, 6.39999880e+10, 6.39839960e+10],\n",
       "       [6.39680040e+10, 6.39520120e+10, 6.39360200e+10, ...,\n",
       "        3.19999940e+07, 1.59999980e+07, 0.00000000e+00]])"
      ]
     },
     "execution_count": 7,
     "metadata": {},
     "output_type": "execute_result"
    }
   ],
   "source": [
    "C = hadamard_ufunc(A, B)\n",
    "C"
   ]
  },
  {
   "cell_type": "code",
   "execution_count": 8,
   "metadata": {},
   "outputs": [
    {
     "name": "stdout",
     "output_type": "stream",
     "text": [
      "15.4 ms ± 291 μs per loop (mean ± std. dev. of 7 runs, 100 loops each)\n"
     ]
    }
   ],
   "source": [
    "%timeit hadamard_ufunc(A, B)"
   ]
  },
  {
   "cell_type": "code",
   "execution_count": 9,
   "metadata": {},
   "outputs": [
    {
     "data": {
      "text/plain": [
       "array([[0.00000000e+00, 1.59999980e+07, 3.19999940e+07, ...,\n",
       "        6.39360200e+10, 6.39520120e+10, 6.39680040e+10],\n",
       "       [6.39839960e+10, 6.39999880e+10, 6.40159800e+10, ...,\n",
       "        1.27888040e+11, 1.27904024e+11, 1.27920008e+11],\n",
       "       [1.27935992e+11, 1.27951976e+11, 1.27967960e+11, ...,\n",
       "        1.91808060e+11, 1.91824036e+11, 1.91840012e+11],\n",
       "       ...,\n",
       "       [1.91840012e+11, 1.91824036e+11, 1.91808060e+11, ...,\n",
       "        1.27967960e+11, 1.27951976e+11, 1.27935992e+11],\n",
       "       [1.27920008e+11, 1.27904024e+11, 1.27888040e+11, ...,\n",
       "        6.40159800e+10, 6.39999880e+10, 6.39839960e+10],\n",
       "       [6.39680040e+10, 6.39520120e+10, 6.39360200e+10, ...,\n",
       "        3.19999940e+07, 1.59999980e+07, 0.00000000e+00]])"
      ]
     },
     "execution_count": 9,
     "metadata": {},
     "output_type": "execute_result"
    }
   ],
   "source": [
    "C = gu_hadamard(A, B)\n",
    "C"
   ]
  },
  {
   "cell_type": "code",
   "execution_count": 10,
   "metadata": {},
   "outputs": [
    {
     "name": "stdout",
     "output_type": "stream",
     "text": [
      "15.3 ms ± 222 μs per loop (mean ± std. dev. of 7 runs, 100 loops each)\n"
     ]
    }
   ],
   "source": [
    "%timeit gu_hadamard(A, B)"
   ]
  },
  {
   "cell_type": "markdown",
   "metadata": {},
   "source": [
    "### `numpy`"
   ]
  },
  {
   "cell_type": "code",
   "execution_count": 11,
   "metadata": {},
   "outputs": [
    {
     "data": {
      "text/plain": [
       "array([[0.00000000e+00, 1.59999980e+07, 3.19999940e+07, ...,\n",
       "        6.39360200e+10, 6.39520120e+10, 6.39680040e+10],\n",
       "       [6.39839960e+10, 6.39999880e+10, 6.40159800e+10, ...,\n",
       "        1.27888040e+11, 1.27904024e+11, 1.27920008e+11],\n",
       "       [1.27935992e+11, 1.27951976e+11, 1.27967960e+11, ...,\n",
       "        1.91808060e+11, 1.91824036e+11, 1.91840012e+11],\n",
       "       ...,\n",
       "       [1.91840012e+11, 1.91824036e+11, 1.91808060e+11, ...,\n",
       "        1.27967960e+11, 1.27951976e+11, 1.27935992e+11],\n",
       "       [1.27920008e+11, 1.27904024e+11, 1.27888040e+11, ...,\n",
       "        6.40159800e+10, 6.39999880e+10, 6.39839960e+10],\n",
       "       [6.39680040e+10, 6.39520120e+10, 6.39360200e+10, ...,\n",
       "        3.19999940e+07, 1.59999980e+07, 0.00000000e+00]])"
      ]
     },
     "execution_count": 11,
     "metadata": {},
     "output_type": "execute_result"
    }
   ],
   "source": [
    "C = hadamard(A, B)\n",
    "C"
   ]
  },
  {
   "cell_type": "code",
   "execution_count": 12,
   "metadata": {},
   "outputs": [
    {
     "name": "stdout",
     "output_type": "stream",
     "text": [
      "16 ms ± 413 μs per loop (mean ± std. dev. of 7 runs, 100 loops each)\n"
     ]
    }
   ],
   "source": [
    "%timeit hadamard(A, B)"
   ]
  },
  {
   "cell_type": "markdown",
   "metadata": {},
   "source": [
    "## Matrix multiplication"
   ]
  },
  {
   "cell_type": "markdown",
   "metadata": {},
   "source": [
    "An example from <http://numba.pydata.org/numba-doc/0.12/tutorial_numpy_and_numba.html>. Their example is wrong, however, because their calls to `gu_matmul` and `np.matmul` yield different result matrices with different dimensions."
   ]
  },
  {
   "cell_type": "code",
   "execution_count": 13,
   "metadata": {},
   "outputs": [],
   "source": [
    "def matmulcore(A, B, C):\n",
    "    m, n = A.shape\n",
    "    n, p = B.shape\n",
    "    for i in range(m):\n",
    "        for j in range(p):\n",
    "            C[i, j] = 0.0\n",
    "            for k in range(n):\n",
    "                C[i, j] += A[i, k] * B[k, j]"
   ]
  },
  {
   "cell_type": "code",
   "execution_count": 14,
   "metadata": {},
   "outputs": [],
   "source": [
    "gu_matmul = nb.guvectorize(\n",
    "    [\n",
    "        \"float32[:,:], float32[:,:], float32[:,:]\",\n",
    "        \"float64[:,:], float64[:,:], float64[:,:]\",\n",
    "    ],\n",
    "    \"(m,n),(n,p)->(n,p)\",\n",
    ")(matmulcore)"
   ]
  },
  {
   "cell_type": "markdown",
   "metadata": {},
   "source": [
    "Note: `numba` will fail to compute a result in reasonable time for `n = 4000`."
   ]
  },
  {
   "cell_type": "code",
   "execution_count": 15,
   "metadata": {},
   "outputs": [],
   "source": [
    "n = 1000\n",
    "A = np.arange(n * n, dtype=np.float64).reshape(n, n)\n",
    "B = np.flip(np.arange(n * n, dtype=np.float64)).reshape(n, n)"
   ]
  },
  {
   "cell_type": "markdown",
   "metadata": {},
   "source": [
    "### `numba`"
   ]
  },
  {
   "cell_type": "code",
   "execution_count": 16,
   "metadata": {},
   "outputs": [
    {
     "data": {
      "text/plain": [
       "array([[1.66666000e+11, 1.66665501e+11, 1.66665002e+11, ...,\n",
       "        1.66167999e+11, 1.66167500e+11, 1.66167000e+11],\n",
       "       [6.67165000e+11, 6.67163501e+11, 6.67162002e+11, ...,\n",
       "        6.65669999e+11, 6.65668500e+11, 6.65667000e+11],\n",
       "       [1.16766400e+12, 1.16766150e+12, 1.16765900e+12, ...,\n",
       "        1.16517200e+12, 1.16516950e+12, 1.16516700e+12],\n",
       "       ...,\n",
       "       [4.99164169e+14, 4.99163172e+14, 4.99162174e+14, ...,\n",
       "        4.98169662e+14, 4.98168664e+14, 4.98167667e+14],\n",
       "       [4.99664668e+14, 4.99663670e+14, 4.99662671e+14, ...,\n",
       "        4.98669164e+14, 4.98668165e+14, 4.98667167e+14],\n",
       "       [5.00165167e+14, 5.00164168e+14, 5.00163168e+14, ...,\n",
       "        4.99168666e+14, 4.99167666e+14, 4.99166667e+14]])"
      ]
     },
     "execution_count": 16,
     "metadata": {},
     "output_type": "execute_result"
    }
   ],
   "source": [
    "C = gu_matmul(A, B)\n",
    "C"
   ]
  },
  {
   "cell_type": "code",
   "execution_count": 17,
   "metadata": {},
   "outputs": [
    {
     "name": "stdout",
     "output_type": "stream",
     "text": [
      "959 ms ± 14 ms per loop (mean ± std. dev. of 7 runs, 1 loop each)\n"
     ]
    }
   ],
   "source": [
    "%timeit gu_matmul(A, B)"
   ]
  },
  {
   "cell_type": "markdown",
   "metadata": {},
   "source": [
    "### `numpy`"
   ]
  },
  {
   "cell_type": "code",
   "execution_count": 18,
   "metadata": {},
   "outputs": [
    {
     "data": {
      "text/plain": [
       "array([[1.66666000e+11, 1.66665501e+11, 1.66665002e+11, ...,\n",
       "        1.66167999e+11, 1.66167500e+11, 1.66167000e+11],\n",
       "       [6.67165000e+11, 6.67163501e+11, 6.67162002e+11, ...,\n",
       "        6.65669999e+11, 6.65668500e+11, 6.65667000e+11],\n",
       "       [1.16766400e+12, 1.16766150e+12, 1.16765900e+12, ...,\n",
       "        1.16517200e+12, 1.16516950e+12, 1.16516700e+12],\n",
       "       ...,\n",
       "       [4.99164169e+14, 4.99163172e+14, 4.99162174e+14, ...,\n",
       "        4.98169662e+14, 4.98168664e+14, 4.98167667e+14],\n",
       "       [4.99664668e+14, 4.99663670e+14, 4.99662671e+14, ...,\n",
       "        4.98669164e+14, 4.98668165e+14, 4.98667167e+14],\n",
       "       [5.00165167e+14, 5.00164168e+14, 5.00163168e+14, ...,\n",
       "        4.99168666e+14, 4.99167666e+14, 4.99166667e+14]])"
      ]
     },
     "execution_count": 18,
     "metadata": {},
     "output_type": "execute_result"
    }
   ],
   "source": [
    "C = np.matmul(A, B)\n",
    "C"
   ]
  },
  {
   "cell_type": "code",
   "execution_count": 19,
   "metadata": {},
   "outputs": [
    {
     "name": "stdout",
     "output_type": "stream",
     "text": [
      "1.25 s ± 25.9 ms per loop (mean ± std. dev. of 7 runs, 1 loop each)\n"
     ]
    }
   ],
   "source": [
    "%timeit np.matmul(A, B)"
   ]
  },
  {
   "cell_type": "markdown",
   "metadata": {},
   "source": [
    "## Linear interpolation"
   ]
  },
  {
   "cell_type": "markdown",
   "metadata": {},
   "source": [
    "Another example from <http://numba.pydata.org/numba-doc/0.12/tutorial_numpy_and_numba.html>."
   ]
  },
  {
   "cell_type": "code",
   "execution_count": 20,
   "metadata": {},
   "outputs": [],
   "source": [
    "def lerp(a, b, t):\n",
    "    return a + t * (b - a)"
   ]
  },
  {
   "cell_type": "code",
   "execution_count": 21,
   "metadata": {},
   "outputs": [],
   "source": [
    "lerp_ufunc = nb.vectorize(\n",
    "    [\"float32(float32, float32, float32)\", \"float64(float64, float64, float64)\"]\n",
    ")(lerp)"
   ]
  },
  {
   "cell_type": "code",
   "execution_count": 22,
   "metadata": {},
   "outputs": [],
   "source": [
    "n = 100000\n",
    "a = np.arange(0.0, 1.0, 1.0 / n)\n",
    "b = np.flip(a)\n",
    "t = np.full(n, 0.5)"
   ]
  },
  {
   "cell_type": "markdown",
   "metadata": {},
   "source": [
    "### `numba`"
   ]
  },
  {
   "cell_type": "code",
   "execution_count": 23,
   "metadata": {},
   "outputs": [
    {
     "data": {
      "text/plain": [
       "array([0.499995, 0.499995, 0.499995, ..., 0.499995, 0.499995, 0.499995])"
      ]
     },
     "execution_count": 23,
     "metadata": {},
     "output_type": "execute_result"
    }
   ],
   "source": [
    "result = lerp_ufunc(a, b, t)\n",
    "result"
   ]
  },
  {
   "cell_type": "code",
   "execution_count": 24,
   "metadata": {},
   "outputs": [
    {
     "name": "stdout",
     "output_type": "stream",
     "text": [
      "53.4 μs ± 169 ns per loop (mean ± std. dev. of 7 runs, 10,000 loops each)\n"
     ]
    }
   ],
   "source": [
    "%timeit lerp_ufunc(a, b, t)"
   ]
  },
  {
   "cell_type": "markdown",
   "metadata": {},
   "source": [
    "### `numpy`"
   ]
  },
  {
   "cell_type": "code",
   "execution_count": 25,
   "metadata": {},
   "outputs": [
    {
     "data": {
      "text/plain": [
       "array([0.499995, 0.499995, 0.499995, ..., 0.499995, 0.499995, 0.499995])"
      ]
     },
     "execution_count": 25,
     "metadata": {},
     "output_type": "execute_result"
    }
   ],
   "source": [
    "result = lerp(a, b, t)\n",
    "result"
   ]
  },
  {
   "cell_type": "code",
   "execution_count": 26,
   "metadata": {},
   "outputs": [
    {
     "name": "stdout",
     "output_type": "stream",
     "text": [
      "87.9 μs ± 236 ns per loop (mean ± std. dev. of 7 runs, 10,000 loops each)\n"
     ]
    }
   ],
   "source": [
    "%timeit lerp(a, b, t)"
   ]
  }
 ],
 "metadata": {
  "kernelspec": {
   "display_name": "Python 3 (ipykernel)",
   "language": "python",
   "name": "python3"
  },
  "language_info": {
   "codemirror_mode": {
    "name": "ipython",
    "version": 3
   },
   "file_extension": ".py",
   "mimetype": "text/x-python",
   "name": "python",
   "nbconvert_exporter": "python",
   "pygments_lexer": "ipython3",
   "version": "3.11.9"
  }
 },
 "nbformat": 4,
 "nbformat_minor": 4
}
